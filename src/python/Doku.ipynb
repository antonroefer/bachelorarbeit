{
 "cells": [
  {
   "cell_type": "code",
   "execution_count": null,
   "id": "48b3720b",
   "metadata": {},
   "outputs": [],
   "source": []
  },
  {
   "cell_type": "markdown",
   "id": "7c88e8b3",
   "metadata": {},
   "source": [
    "## 22.05.2025\n",
    "\n",
    "Dip und Gradient von der Envelope berechnen\n",
    "\n",
    "Azimuth entfernen, keine eigene Aussagekraft\n",
    "\n",
    "FileZilla installieren\n",
    "\n",
    "### Attribut To-Do's\n",
    "\n",
    "raw oder processed data\n",
    "Fenstergröße variieren\n",
    "Dämpfungsfunktion mit e-Funktion annähern, Peak picking der Envelope\n",
    "\n",
    "Mean über Inst. Frequency laufen lassen\n",
    "\n",
    "Qualitätsfaktor mit Rohdaten oder spherisch korrigierten Rohdaten (Sample * t)\n",
    "\n",
    "Instantanious wavenumber\n",
    "\n",
    "Semblance with Envelope\n",
    "\n",
    "### Crossplots Attribute erstellen"
   ]
  },
  {
   "cell_type": "markdown",
   "id": "5cc61e34",
   "metadata": {},
   "source": []
  },
  {
   "cell_type": "markdown",
   "id": "7c89cf31",
   "metadata": {},
   "source": []
  }
 ],
 "metadata": {
  "language_info": {
   "name": "python"
  }
 },
 "nbformat": 4,
 "nbformat_minor": 5
}
